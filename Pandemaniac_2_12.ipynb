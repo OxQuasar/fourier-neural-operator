{
  "nbformat": 4,
  "nbformat_minor": 0,
  "metadata": {
    "colab": {
      "provenance": [],
      "toc_visible": true,
      "include_colab_link": true
    },
    "kernelspec": {
      "name": "python3",
      "display_name": "Python 3"
    },
    "language_info": {
      "name": "python"
    }
  },
  "cells": [
    {
      "cell_type": "markdown",
      "metadata": {
        "id": "view-in-github",
        "colab_type": "text"
      },
      "source": [
        "<a href=\"https://colab.research.google.com/github/khassibi/fourier-neural-operator/blob/main/Pandemaniac_2_12.ipynb\" target=\"_parent\"><img src=\"https://colab.research.google.com/assets/colab-badge.svg\" alt=\"Open In Colab\"/></a>"
      ]
    },
    {
      "cell_type": "code",
      "source": [
        "# importing the module\n",
        "import json\n",
        "import numpy as np\n",
        "import networkx as nx\n",
        "import random\n",
        "import pickle"
      ],
      "metadata": {
        "id": "_1H5Qr0bFRBv"
      },
      "execution_count": 144,
      "outputs": []
    },
    {
      "cell_type": "code",
      "source": [
        "# getting the data\n",
        "from google.colab import drive\n",
        "drive.mount('/content/drive/')\n",
        "%cd drive/MyDrive\n",
        "# to use graph data, copy sample_graphs linked below and add a shortcut to your \"MyDrive\" folder\n",
        "# https://drive.google.com/drive/u/0/folders/1AHIrdyHnmcbxb0rjtTJPrK6-fEwmlZdQ"
      ],
      "metadata": {
        "id": "xZikb2iMG84S",
        "colab": {
          "base_uri": "https://localhost:8080/"
        },
        "outputId": "e42ff76e-eb9c-4615-f365-0f27be51c0be"
      },
      "execution_count": 145,
      "outputs": [
        {
          "output_type": "stream",
          "name": "stdout",
          "text": [
            "Drive already mounted at /content/drive/; to attempt to forcibly remount, call drive.mount(\"/content/drive/\", force_remount=True).\n",
            "[Errno 2] No such file or directory: 'drive/MyDrive'\n",
            "/content/drive/MyDrive\n"
          ]
        }
      ]
    },
    {
      "cell_type": "markdown",
      "source": [
        "# Generating Graphs"
      ],
      "metadata": {
        "id": "rojtGCyWHz86"
      }
    },
    {
      "cell_type": "markdown",
      "source": [
        "## Making Web Graph"
      ],
      "metadata": {
        "id": "oLJ_VVNIFDsy"
      }
    },
    {
      "cell_type": "code",
      "source": [
        "with open('sample_graphs/web_final.pickle', 'rb') as handle:\n",
        "    web = pickle.load(handle)\n",
        "web_graph=nx.Graph()"
      ],
      "metadata": {
        "id": "olA7TMezFFwp"
      },
      "execution_count": null,
      "outputs": []
    },
    {
      "cell_type": "markdown",
      "source": [
        "## Making Preferential Attachment Graph"
      ],
      "metadata": {
        "id": "zNAuHRj3FpO9"
      }
    },
    {
      "cell_type": "code",
      "source": [
        "def generate_pref_network(T):\n",
        "  \"\"\"\n",
        "  T is the number of nodes\n",
        "  Return an undirected networkxgraph of the residents and a list of the \n",
        "  degrees of the nodes in the network\n",
        "  \"\"\"\n",
        "  G = nx.Graph()\n",
        "  G.add_node(0)\n",
        "  G.add_node(1)\n",
        "  G.add_edge(0,1)\n",
        "  # For each node starting at 2, connect it probabilistically to a pre-existing\n",
        "  # node\n",
        "  for i in range(2, T):\n",
        "      prob = np.random.uniform()\n",
        "      cum_degs = np.cumsum(np.array(G.degree())[:,1])\n",
        "      prob_bins = cum_degs / cum_degs[-1]\n",
        "      for j in range(0, i):\n",
        "        if prob <= prob_bins[j]:\n",
        "          G.add_node(i)\n",
        "          G.add_edge(i,j)\n",
        "          break\n",
        "\n",
        "  return G"
      ],
      "metadata": {
        "id": "rdzw-OqKF17G"
      },
      "execution_count": null,
      "outputs": []
    },
    {
      "cell_type": "markdown",
      "source": [
        "## Making SSBM"
      ],
      "metadata": {
        "id": "fhFYTblXGBY3"
      }
    },
    {
      "cell_type": "code",
      "source": [
        "def sbm(n, k, A, B):\n",
        "    \n",
        "    G = nx.Graph()\n",
        "    \n",
        "    which_com = {}\n",
        "    \n",
        "    for i in range(n):\n",
        "        G.add_node(i)\n",
        "        which_com[i] = np.floor(np.random.uniform()*k)\n",
        "    \n",
        "    for i in range(n): # for all pairs of nodes\n",
        "        for j in range(i+1, n):\n",
        "            if which_com[i] == which_com[j]: # if same community\n",
        "                if np.random.uniform() < A:  # add an edge w.p. A\n",
        "                    G.add_edge(i, j,  weight = 1)\n",
        "            else:                            # otherwise\n",
        "                if np.random.uniform() < B:  # add an edge w.p. B\n",
        "                    G.add_edge(i, j,  weight = 1)\n",
        "    return G"
      ],
      "metadata": {
        "id": "cXrdFs-9GDUj"
      },
      "execution_count": null,
      "outputs": []
    },
    {
      "cell_type": "markdown",
      "source": [
        "## Making Erdo-Renyi"
      ],
      "metadata": {
        "id": "_N85AYTlGkkd"
      }
    },
    {
      "cell_type": "code",
      "source": [
        "def erdos_renyi(n, p):\n",
        "    G = nx.Graph()\n",
        "    for i in range(n):\n",
        "        G.add_node(i)\n",
        "    for i in range(n):\n",
        "        for j in range(i+1, n):\n",
        "            if np.random.uniform() < p:\n",
        "                G.add_edge(i, j)\n",
        "    return G"
      ],
      "metadata": {
        "id": "dDPRwf7KGjcQ"
      },
      "execution_count": null,
      "outputs": []
    },
    {
      "cell_type": "markdown",
      "source": [
        "## Getting the graph from JSON file"
      ],
      "metadata": {
        "id": "awWPsQtAA65C"
      }
    },
    {
      "cell_type": "code",
      "execution_count": null,
      "metadata": {
        "id": "GxD9dK5LwhLr"
      },
      "outputs": [],
      "source": [
        "def from_json(name):\n",
        "  # Opening JSON file\n",
        "  data = {}\n",
        "  with open('sample_graphs/' + graph_name + '.json') as json_file:\n",
        "      data = json.load(json_file)\n",
        "  \n",
        "      # Print the type of data variable\n",
        "      print(\"Type:\", type(data))\n",
        "      \n",
        "  # convert json dictionary to integer\n",
        "  def make_dict_int(x):\n",
        "      return {int(k):list(np.array(v).astype(int)) for k,v in x.items()}\n",
        "  data = make_dict_int(data)\n",
        "  G = nx.Graph()\n",
        "  G = nx.from_dict_of_lists(data)\n",
        "  return G"
      ]
    },
    {
      "cell_type": "markdown",
      "source": [
        "# Our algorithms"
      ],
      "metadata": {
        "id": "EGgMu0PiHRV_"
      }
    },
    {
      "cell_type": "markdown",
      "source": [
        "## Friend of Friends Algorithm"
      ],
      "metadata": {
        "id": "ksH6UVphBS32"
      }
    },
    {
      "cell_type": "code",
      "source": [
        "\"\"\"\n",
        "First attempt: End strategy\n",
        "\"\"\"\n",
        "\"\"\"\n",
        "\n",
        "node_list = G.nodes()\n",
        "random_nodes50 = random.sample(node_list, 50)\n",
        "friends = []\n",
        "\n",
        "for node in random_nodes50:\n",
        "\n",
        "  friends = list(G.neighbors(node))\n",
        "  fof = random.choice(friends)\n",
        "\n",
        "  if fof not in friends:\n",
        "    friends.append(fof)\n",
        "\n",
        "\"\"\"\n",
        "\n",
        "def friend_of_friend(G, num_seeds):\n",
        "  \"\"\" Friend of a friend a while loop \"\"\"\n",
        "  node_list = list(G.nodes())\n",
        "  friends = []\n",
        "\n",
        "  while len(friends) != num_seeds:\n",
        "    node = random.choice(node_list)\n",
        "    friends_of_nodes = list(G.neighbors(node))\n",
        "\n",
        "    if len(friends_of_nodes) != 0:\n",
        "      node_friend = random.choice(friends_of_nodes)\n",
        "    else:\n",
        "      continue\n",
        "\n",
        "    if node_friend not in friends:\n",
        "      friends.append(node_friend)\n",
        "\n",
        "  return friends"
      ],
      "metadata": {
        "id": "JMtKH7Rf41Y3"
      },
      "execution_count": 146,
      "outputs": []
    },
    {
      "cell_type": "markdown",
      "source": [
        "## Random 50 Strategy "
      ],
      "metadata": {
        "id": "gGHJ3yZZBVmR"
      }
    },
    {
      "cell_type": "code",
      "source": [
        "def random50(G, num_seeds):\n",
        "  # submission for a day we are tired\n",
        "  node_list = G.nodes()\n",
        "  random_nodes50 = random.sample(node_list, num_seeds)\n",
        "  return random_nodes50\n"
      ],
      "metadata": {
        "id": "S2LY_Xx6za-w"
      },
      "execution_count": null,
      "outputs": []
    },
    {
      "cell_type": "markdown",
      "source": [
        "# Testing the Code"
      ],
      "metadata": {
        "id": "7dGPFl1CH8_Z"
      }
    },
    {
      "cell_type": "code",
      "source": [
        "## Pick a graph\n",
        "num_seeds = 10\n",
        "graph_name = 'J.10.30'\n",
        "G = from_json(graph_name)\n",
        "\n",
        "## Pick an algorithm\n",
        "algorithm_name = 'Friend of Friend'\n",
        "\n",
        "seed = []\n",
        "for i in range(50):\n",
        "  ## Create seed\n",
        "  seed += friend_of_friend(G, num_seeds)\n",
        "\n",
        "## Name the submission\n",
        "submission_name = algorithm_name + ' on ' + graph_name\n",
        "with open('sample_graphs/submissions/' + submission_name + '.txt', 'w+') as f:\n",
        "    content = '\\n'.join(str(x) for x in seed)\n",
        "    f.write(content)"
      ],
      "metadata": {
        "id": "sch4cluHwwmi",
        "colab": {
          "base_uri": "https://localhost:8080/"
        },
        "outputId": "f082accb-3d61-40c8-fe4c-1ccd599a3fa6"
      },
      "execution_count": 147,
      "outputs": [
        {
          "output_type": "stream",
          "name": "stdout",
          "text": [
            "Type: <class 'dict'>\n"
          ]
        }
      ]
    }
  ]
}